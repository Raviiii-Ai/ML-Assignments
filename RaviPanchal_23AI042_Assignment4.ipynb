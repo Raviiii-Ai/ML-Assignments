{
  "nbformat": 4,
  "nbformat_minor": 0,
  "metadata": {
    "colab": {
      "provenance": []
    },
    "kernelspec": {
      "name": "python3",
      "display_name": "Python 3"
    },
    "language_info": {
      "name": "python"
    }
  },
  "cells": [
    {
      "cell_type": "code",
      "execution_count": 30,
      "metadata": {
        "id": "XX_zM0E25VVj"
      },
      "outputs": [],
      "source": [
        "#Import Required Libraries\n",
        "import numpy as np\n",
        "import pandas as pd\n",
        "from sklearn.model_selection import train_test_split\n",
        "from sklearn.preprocessing import StandardScaler\n",
        "from sklearn.metrics import accuracy_score,classification_report,confusion_matrix\n",
        "\n"
      ]
    },
    {
      "cell_type": "code",
      "source": [
        "\n",
        "#Load the dataset\n",
        "url=\"https://github.com/mishravipul/data/raw/main/divorce.csv\"\n",
        "df=pd.read_csv(url,delimiter=';')\n",
        "print(df.head())"
      ],
      "metadata": {
        "colab": {
          "base_uri": "https://localhost:8080/"
        },
        "id": "3SLa7ABk8XJj",
        "outputId": "8728f1db-f611-4281-f913-94353a8dd44a"
      },
      "execution_count": 31,
      "outputs": [
        {
          "output_type": "stream",
          "name": "stdout",
          "text": [
            "   Atr1  Atr2  Atr3  Atr4  Atr5  Atr6  Atr7  Atr8  Atr9  Atr10  ...  Atr46  \\\n",
            "0     2     2     4     1     0     0     0     0     0      0  ...      2   \n",
            "1     4     4     4     4     4     0     0     4     4      4  ...      2   \n",
            "2     2     2     2     2     1     3     2     1     1      2  ...      3   \n",
            "3     3     2     3     2     3     3     3     3     3      3  ...      2   \n",
            "4     2     2     1     1     1     1     0     0     0      0  ...      2   \n",
            "\n",
            "   Atr47  Atr48  Atr49  Atr50  Atr51  Atr52  Atr53  Atr54  Class  \n",
            "0      1      3      3      3      2      3      2      1      1  \n",
            "1      2      3      4      4      4      4      2      2      1  \n",
            "2      2      3      1      1      1      2      2      2      1  \n",
            "3      2      3      3      3      3      2      2      2      1  \n",
            "4      1      2      3      2      2      2      1      0      1  \n",
            "\n",
            "[5 rows x 55 columns]\n"
          ]
        }
      ]
    },
    {
      "cell_type": "code",
      "source": [
        "#Add a bias column\n",
        "df.insert(0,'Bias',1)\n",
        "print(df.head())"
      ],
      "metadata": {
        "colab": {
          "base_uri": "https://localhost:8080/"
        },
        "id": "decK1ngq8Y8K",
        "outputId": "52a19642-60ff-42ad-c8e0-84a1f23ead34"
      },
      "execution_count": 32,
      "outputs": [
        {
          "output_type": "stream",
          "name": "stdout",
          "text": [
            "   Bias  Atr1  Atr2  Atr3  Atr4  Atr5  Atr6  Atr7  Atr8  Atr9  ...  Atr46  \\\n",
            "0     1     2     2     4     1     0     0     0     0     0  ...      2   \n",
            "1     1     4     4     4     4     4     0     0     4     4  ...      2   \n",
            "2     1     2     2     2     2     1     3     2     1     1  ...      3   \n",
            "3     1     3     2     3     2     3     3     3     3     3  ...      2   \n",
            "4     1     2     2     1     1     1     1     0     0     0  ...      2   \n",
            "\n",
            "   Atr47  Atr48  Atr49  Atr50  Atr51  Atr52  Atr53  Atr54  Class  \n",
            "0      1      3      3      3      2      3      2      1      1  \n",
            "1      2      3      4      4      4      4      2      2      1  \n",
            "2      2      3      1      1      1      2      2      2      1  \n",
            "3      2      3      3      3      3      2      2      2      1  \n",
            "4      1      2      3      2      2      2      1      0      1  \n",
            "\n",
            "[5 rows x 56 columns]\n"
          ]
        }
      ]
    },
    {
      "cell_type": "code",
      "source": [
        "#Define X and y\n",
        "X=df.iloc[:,:-1].values\n",
        "y=df.iloc[:,-1].values\n",
        "\n",
        "#print the shape and datatypes of X and y\n",
        "print(\"Shape of X: \",X.shape)\n",
        "print(\"Shape of y: \",y.shape)\n",
        "print(\"Datatype of X: \",X.dtype)\n",
        "print(\"Datatype of y: \",y.dtype)\n"
      ],
      "metadata": {
        "colab": {
          "base_uri": "https://localhost:8080/"
        },
        "id": "CAXdn8yy8m-6",
        "outputId": "733b199c-9f63-49b3-c891-1981fb3666db"
      },
      "execution_count": 33,
      "outputs": [
        {
          "output_type": "stream",
          "name": "stdout",
          "text": [
            "Shape of X:  (170, 55)\n",
            "Shape of y:  (170,)\n",
            "Datatype of X:  int64\n",
            "Datatype of y:  int64\n"
          ]
        }
      ]
    },
    {
      "cell_type": "code",
      "source": [
        "#Split the Dataset into training and Testing Sets\n",
        "X_train,X_test,y_train,y_test=train_test_split(X,y,test_size=0.15,random_state=42)\n",
        "\n",
        "#print the shape of the training and testing sets\n",
        "print(\"Shape of X_train:\",X_train.shape)\n",
        "print(\"Shape of X_test:\",X_test.shape)\n",
        "print(\"Shape of y_train:\",y_train.shape)\n",
        "print(\"Shape of y_test:\",y_test.shape)"
      ],
      "metadata": {
        "colab": {
          "base_uri": "https://localhost:8080/"
        },
        "id": "HpqEsqv59OBe",
        "outputId": "d5affc8c-e447-4ea4-9926-bca3416ed5fc"
      },
      "execution_count": 34,
      "outputs": [
        {
          "output_type": "stream",
          "name": "stdout",
          "text": [
            "Shape of X_train: (144, 55)\n",
            "Shape of X_test: (26, 55)\n",
            "Shape of y_train: (144,)\n",
            "Shape of y_test: (26,)\n"
          ]
        }
      ]
    },
    {
      "cell_type": "code",
      "source": [
        "class LogisticRegression:\n",
        "    def __init__(self, learning_rate=0.01, max_iter=1000):\n",
        "        self.learning_rate = learning_rate\n",
        "        self.max_iter = max_iter\n",
        "        self.weights = None\n",
        "\n",
        "    def sigmoid(self, z):\n",
        "        return 1 / (1 + np.exp(-z))\n",
        "\n",
        "    def log_likelihood(self, X, y):\n",
        "        z = np.dot(X, self.weights)\n",
        "        return -np.sum(y * np.log(self.sigmoid(z)) + (1 - y) * np.log(1 - self.sigmoid(z)))\n",
        "\n",
        "    def fit(self, X, y):\n",
        "        n_samples, n_features = X.shape\n",
        "        self.weights = np.zeros(n_features)\n",
        "\n",
        "        for _ in range(self.max_iter):\n",
        "            z = np.dot(X, self.weights)\n",
        "            predictions = self.sigmoid(z)\n",
        "            gradient = np.dot(X.T, (predictions - y)) / n_samples\n",
        "            self.weights -= self.learning_rate * gradient\n",
        "\n",
        "    def predict_proba(self, X):\n",
        "        z = np.dot(X, self.weights)\n",
        "        return self.sigmoid(z)\n",
        "\n",
        "    def predict(self, X, threshold=0.5):\n",
        "        return (self.predict_proba(X) >= threshold).astype(int)"
      ],
      "metadata": {
        "id": "rzC0EFas-HX-"
      },
      "execution_count": 39,
      "outputs": []
    },
    {
      "cell_type": "code",
      "source": [
        "#Train the data\n",
        "model=LogisticRegression(learning_rate=0.01,max_iter=1000)\n",
        "model.fit(X_train,y_train)\n",
        "\n"
      ],
      "metadata": {
        "id": "csFhnZ8DAqHh"
      },
      "execution_count": 40,
      "outputs": []
    },
    {
      "cell_type": "code",
      "source": [
        "#Calculate accuracy\n",
        "def calculate_accuracy(y_true,y_pred):\n",
        "  return accuracy_score(y_true,y_pred)\n",
        "\n",
        "y_train_pred=model.predict(X_train)\n",
        "y_test_pred=model.predict(X_test)\n",
        "\n",
        "train_accuracy=calculate_accuracy(y_train,y_train_pred)\n",
        "test_accuracy=calculate_accuracy(y_test,y_test_pred)\n",
        "\n",
        "print(\"Training Accuracy:\",train_accuracy)\n",
        "print(\"Testing Accuracy: \",test_accuracy)"
      ],
      "metadata": {
        "colab": {
          "base_uri": "https://localhost:8080/"
        },
        "id": "o_zYViiuBex0",
        "outputId": "42c0f15d-8e91-44a1-f156-05395ebacfd8"
      },
      "execution_count": 41,
      "outputs": [
        {
          "output_type": "stream",
          "name": "stdout",
          "text": [
            "Training Accuracy: 0.9861111111111112\n",
            "Testing Accuracy:  0.9615384615384616\n"
          ]
        }
      ]
    },
    {
      "cell_type": "code",
      "source": [
        "#Print Classification Metrics\n",
        "print(\"Classification Report( Test Data):\")\n",
        "print(classification_report(y_test,y_test_pred))\n",
        "\n",
        "print(\"Confusion Matrix (Test Data):\")\n",
        "print(confusion_matrix(y_test,y_test_pred))"
      ],
      "metadata": {
        "colab": {
          "base_uri": "https://localhost:8080/"
        },
        "id": "J7NQQLu1Cp_0",
        "outputId": "e896320c-8a25-4f77-9e33-04efeda0798b"
      },
      "execution_count": 42,
      "outputs": [
        {
          "output_type": "stream",
          "name": "stdout",
          "text": [
            "Classification Report( Test Data):\n",
            "              precision    recall  f1-score   support\n",
            "\n",
            "           0       0.92      1.00      0.96        11\n",
            "           1       1.00      0.93      0.97        15\n",
            "\n",
            "    accuracy                           0.96        26\n",
            "   macro avg       0.96      0.97      0.96        26\n",
            "weighted avg       0.96      0.96      0.96        26\n",
            "\n",
            "Confusion Matrix (Test Data):\n",
            "[[11  0]\n",
            " [ 1 14]]\n"
          ]
        }
      ]
    },
    {
      "cell_type": "code",
      "source": [
        "#Fun Activity\n",
        "scaler=StandardScaler()\n",
        "X_train_scaled=scaler.fit_transform(X_train)\n",
        "X_test_scaled=scaler.transform(X_test)\n",
        "\n",
        "model.fit(X_train_scaled,y_train)\n",
        "\n",
        "y_train_pred_scaled=model.predict(X_train_scaled)\n",
        "y_test_pred_scaled=model.predict(X_test_scaled)\n",
        "\n",
        "train_accuracy_scaled=calculate_accuracy(y_train,y_train_pred_scaled)\n",
        "test_accuracy_scaled=calculate_accuracy(y_test,y_test_pred_scaled)\n",
        "\n",
        "print(\"Train Accuracy (Scaled):\",train_accuracy_scaled)\n",
        "print(\"Testing Accuracy (Scaled):\",test_accuracy_scaled)"
      ],
      "metadata": {
        "colab": {
          "base_uri": "https://localhost:8080/"
        },
        "id": "vbxHnlX2DScv",
        "outputId": "3c45d044-ac8a-489a-9e75-b3c56330c513"
      },
      "execution_count": 43,
      "outputs": [
        {
          "output_type": "stream",
          "name": "stdout",
          "text": [
            "Train Accuracy (Scaled): 0.9791666666666666\n",
            "Testing Accuracy (Scaled): 0.9615384615384616\n"
          ]
        }
      ]
    }
  ]
}