{
 "cells": [
  {
   "cell_type": "markdown",
   "metadata": {
    "id": "Zr87I0BZ8cbX"
   },
   "source": [
    "# Part 1: Exploration of **NumPy**\n"
   ]
  },
  {
   "cell_type": "markdown",
   "metadata": {
    "id": "3CCewTBU8sFO"
   },
   "source": [
    " **1. Array Creation**<br>\n",
    "Create a 1D array, 2D array, and 3D array using NumPy. Print the shape, size, and\n",
    "dimensions of each array."
   ]
  },
  {
   "cell_type": "code",
   "execution_count": null,
   "metadata": {
    "colab": {
     "base_uri": "https://localhost:8080/"
    },
    "executionInfo": {
     "elapsed": 789,
     "status": "ok",
     "timestamp": 1736360879395,
     "user": {
      "displayName": "Ravi Panchal",
      "userId": "18150385695476416105"
     },
     "user_tz": -330
    },
    "id": "9DOmkheZ84f5",
    "outputId": "01752c96-837d-4919-d312-b55cc7b92cbc"
   },
   "outputs": [
    {
     "name": "stdout",
     "output_type": "stream",
     "text": [
      "[[[ 1  2  3]\n",
      "  [ 4  5  6]]\n",
      "\n",
      " [[ 7  8  9]\n",
      "  [10 11 12]]\n",
      "\n",
      " [[13 14 15]\n",
      "  [16 17 18]]]\n",
      "(3, 2, 3)\n",
      "18\n",
      "3\n"
     ]
    }
   ],
   "source": [
    "#Create 1D array\n",
    "import numpy as np\n",
    "arr1=np.array([1,2,3,4,5])\n",
    "print(arr1)\n",
    "print(arr1.shape)\n",
    "print(arr1.size)\n",
    "print(arr1.ndim)\n",
    "\n",
    "#Create 2D array\n",
    "arr2=np.array([[1,2,3],[4,5,6]])\n",
    "print(arr2)\n",
    "print(arr2.shape)\n",
    "print(arr2.size)\n",
    "print(arr2.ndim)\n",
    "\n",
    "#Create 3D array\n",
    "arr3=np.array([[[1,2,3],[4,5,6]],[[7,8,9],[10,11,12]],[[13,14,15],[16,17,18]]])\n",
    "print(arr3)\n",
    "print(arr3.shape)\n",
    "print(arr3.size)\n",
    "print(arr3.ndim)"
   ]
  },
  {
   "cell_type": "markdown",
   "metadata": {
    "id": "bqBuIdT89o1M"
   },
   "source": [
    "**2. Data Types in Arrays** <br>\n",
    "Create a NumPy array with floating-point numbers. Convert it to an integer array\n",
    "and a boolean array."
   ]
  },
  {
   "cell_type": "code",
   "execution_count": null,
   "metadata": {
    "colab": {
     "base_uri": "https://localhost:8080/"
    },
    "executionInfo": {
     "elapsed": 5,
     "status": "ok",
     "timestamp": 1736357626816,
     "user": {
      "displayName": "Ravi Panchal",
      "userId": "18150385695476416105"
     },
     "user_tz": -330
    },
    "id": "0CCZhEEH9ywl",
    "outputId": "29f0db76-c7e5-4107-b7de-077b32c34429"
   },
   "outputs": [
    {
     "name": "stdout",
     "output_type": "stream",
     "text": [
      "[1 2 3 4 5]\n",
      "[ True  True  True  True  True]\n"
     ]
    }
   ],
   "source": [
    "import numpy as np\n",
    "arr=np.array([1.1,2.2,3.3,4.4,5.5])\n",
    "arr=arr.astype(int)\n",
    "print(arr)\n",
    "\n",
    "arr=arr.astype(bool)\n",
    "print(arr)"
   ]
  },
  {
   "cell_type": "markdown",
   "metadata": {
    "id": "bx94Z_Vo-4l5"
   },
   "source": [
    "**3. Indexing and Slicing** <br>\n",
    "Create a 1D array of integers from 10 to 50 with a step of 5. Extract:<br>\n",
    "1. The first 3 elements <br>\n"
   ]
  },
  {
   "cell_type": "code",
   "execution_count": null,
   "metadata": {
    "colab": {
     "base_uri": "https://localhost:8080/"
    },
    "executionInfo": {
     "elapsed": 546,
     "status": "ok",
     "timestamp": 1736358012774,
     "user": {
      "displayName": "Ravi Panchal",
      "userId": "18150385695476416105"
     },
     "user_tz": -330
    },
    "id": "0odC9X-T_Owg",
    "outputId": "bd4b3fa4-79ae-4640-ff33-0e615ab2448a"
   },
   "outputs": [
    {
     "name": "stdout",
     "output_type": "stream",
     "text": [
      "[10 15 20]\n"
     ]
    }
   ],
   "source": [
    "list=[]\n",
    "for i in range(10,51,5):\n",
    "  list.append(i)\n",
    "\n",
    "arr=np.array(list)\n",
    "print(arr[0:3])\n"
   ]
  },
  {
   "cell_type": "markdown",
   "metadata": {
    "id": "HVnVMsckAN8V"
   },
   "source": [
    "  2.Every alternate element"
   ]
  },
  {
   "cell_type": "code",
   "execution_count": null,
   "metadata": {
    "colab": {
     "base_uri": "https://localhost:8080/"
    },
    "executionInfo": {
     "elapsed": 583,
     "status": "ok",
     "timestamp": 1736358190297,
     "user": {
      "displayName": "Ravi Panchal",
      "userId": "18150385695476416105"
     },
     "user_tz": -330
    },
    "id": "jkkxV9GSASa0",
    "outputId": "5b7ac1d0-b8d4-439a-b31c-0059acf6bf05"
   },
   "outputs": [
    {
     "name": "stdout",
     "output_type": "stream",
     "text": [
      "[10 20 30 40 50]\n"
     ]
    }
   ],
   "source": [
    "list=[]\n",
    "for i in range (10,51,5):\n",
    "  list.append(i)\n",
    "\n",
    "arr=np.array(list)\n",
    "print(arr[0::2])"
   ]
  },
  {
   "cell_type": "markdown",
   "metadata": {
    "id": "yEptID-LA4SR"
   },
   "source": [
    "  3.Elements greater than 25"
   ]
  },
  {
   "cell_type": "code",
   "execution_count": null,
   "metadata": {
    "colab": {
     "base_uri": "https://localhost:8080/"
    },
    "executionInfo": {
     "elapsed": 548,
     "status": "ok",
     "timestamp": 1736358346361,
     "user": {
      "displayName": "Ravi Panchal",
      "userId": "18150385695476416105"
     },
     "user_tz": -330
    },
    "id": "ij9LDzh9A-Vj",
    "outputId": "526ac45d-5ae4-4288-8274-63b6f2e552b1"
   },
   "outputs": [
    {
     "name": "stdout",
     "output_type": "stream",
     "text": [
      "[30 35 40 45 50]\n"
     ]
    }
   ],
   "source": [
    "list=[]\n",
    "for i in range (10,51,5):\n",
    "  list.append(i)\n",
    "\n",
    "arr=np.array(list)\n",
    "print(arr[arr>25])"
   ]
  },
  {
   "cell_type": "markdown",
   "metadata": {
    "id": "xRwl9gLoBe0U"
   },
   "source": [
    "**4. Reshaping and Resizing** <br>\n",
    "Create a 1D array of 12 elements and reshape it into:\n",
    "o A 2x6 array"
   ]
  },
  {
   "cell_type": "code",
   "execution_count": null,
   "metadata": {
    "colab": {
     "base_uri": "https://localhost:8080/"
    },
    "executionInfo": {
     "elapsed": 678,
     "status": "ok",
     "timestamp": 1736361191197,
     "user": {
      "displayName": "Ravi Panchal",
      "userId": "18150385695476416105"
     },
     "user_tz": -330
    },
    "id": "AkrDFaK8BoBT",
    "outputId": "c830ba99-b2ea-4bbd-c885-5c3860942325"
   },
   "outputs": [
    {
     "name": "stdout",
     "output_type": "stream",
     "text": [
      "[[ 1  2  3  4  5  6]\n",
      " [ 7  8  9 10 11 12]]\n"
     ]
    }
   ],
   "source": [
    "import pandas as pd\n",
    "arr=np.array([1,2,3,4,5,6,7,8,9,10,11,12])\n",
    "print(arr.reshape(2,6))\n"
   ]
  },
  {
   "cell_type": "markdown",
   "metadata": {
    "id": "Lrl5oClsMTbp"
   },
   "source": [
    "A 3x4 array"
   ]
  },
  {
   "cell_type": "code",
   "execution_count": null,
   "metadata": {
    "colab": {
     "base_uri": "https://localhost:8080/"
    },
    "executionInfo": {
     "elapsed": 8,
     "status": "ok",
     "timestamp": 1736361362164,
     "user": {
      "displayName": "Ravi Panchal",
      "userId": "18150385695476416105"
     },
     "user_tz": -330
    },
    "id": "T89seUOaMoRO",
    "outputId": "f1485f80-9b88-4157-a24b-75946c1e0f31"
   },
   "outputs": [
    {
     "name": "stdout",
     "output_type": "stream",
     "text": [
      "[[ 1  2  3  4]\n",
      " [ 5  6  7  8]\n",
      " [ 9 10 11 12]]\n"
     ]
    }
   ],
   "source": [
    "arr=np.array([1,2,3,4,5,6,7,8,9,10,11,12])\n",
    "print(arr.reshape(3,4))"
   ]
  },
  {
   "cell_type": "markdown",
   "metadata": {
    "id": "OwwEcZL3NPiu"
   },
   "source": [
    "**5. Arithmetic Operations** <br>\n",
    "Create two arrays of size 3x3 with random integers. Perform element-wise\n",
    "addition, subtraction, multiplication, and division."
   ]
  },
  {
   "cell_type": "code",
   "execution_count": null,
   "metadata": {
    "colab": {
     "base_uri": "https://localhost:8080/"
    },
    "executionInfo": {
     "elapsed": 592,
     "status": "ok",
     "timestamp": 1736362480417,
     "user": {
      "displayName": "Ravi Panchal",
      "userId": "18150385695476416105"
     },
     "user_tz": -330
    },
    "id": "GGRafw2ZP-jA",
    "outputId": "fa8d2d7a-fc84-4fbd-c650-3f1834f7504e"
   },
   "outputs": [
    {
     "name": "stdout",
     "output_type": "stream",
     "text": [
      "[[4 2 3]\n",
      " [1 5 1]\n",
      " [3 4 3]]\n",
      "[[8 1 3]\n",
      " [6 6 2]\n",
      " [8 6 2]]\n",
      "[[12  3  6]\n",
      " [ 7 11  3]\n",
      " [11 10  5]]\n",
      "[[-4  1  0]\n",
      " [-5 -1 -1]\n",
      " [-5 -2  1]]\n",
      "[[32  2  9]\n",
      " [ 6 30  2]\n",
      " [24 24  6]]\n",
      "[[0.5        2.         1.        ]\n",
      " [0.16666667 0.83333333 0.5       ]\n",
      " [0.375      0.66666667 1.5       ]]\n"
     ]
    }
   ],
   "source": [
    "import numpy as np\n",
    "arr1=np.random.randint(1,10,(3,3))\n",
    "arr2=np.random.randint(1,10,(3,3))\n",
    "print(arr1)\n",
    "print(arr2)\n",
    "print(arr1+arr2) #Addition\n",
    "print(arr1-arr2) #subtraction\n",
    "print(arr1*arr2) #product\n",
    "print(arr1/arr2) #division\n"
   ]
  },
  {
   "cell_type": "markdown",
   "metadata": {
    "id": "DWDBmWGNRXQy"
   },
   "source": [
    "**6. Statistical Functions** <br>\n",
    "Generate a 1D array of 50 random numbers between 1 and 100. Compute:\n",
    "1. Mean\n",
    "2. Median\n",
    "3. Standard deviation"
   ]
  },
  {
   "cell_type": "code",
   "execution_count": null,
   "metadata": {
    "colab": {
     "base_uri": "https://localhost:8080/"
    },
    "executionInfo": {
     "elapsed": 630,
     "status": "ok",
     "timestamp": 1736362858887,
     "user": {
      "displayName": "Ravi Panchal",
      "userId": "18150385695476416105"
     },
     "user_tz": -330
    },
    "id": "GERzo6wFRgsT",
    "outputId": "41c9a66a-ef11-40c3-c30f-17c3d0946771"
   },
   "outputs": [
    {
     "name": "stdout",
     "output_type": "stream",
     "text": [
      "[ 6 58 52 14  5 57 96 66  5 99 46 19 34 28  3 67 76 77 71 96 82 61 52 86\n",
      " 65 24 18 45 84 55 43 31 25 43 98 42 96 30 11 91 45 27 57 10 85 45 88 59\n",
      " 75 30]\n",
      "51.56\n",
      "52.0\n",
      "28.627371517483052\n"
     ]
    }
   ],
   "source": [
    "import numpy as np\n",
    "arr=np.random.randint(1,100,50)\n",
    "print(arr)\n",
    "#Mean\n",
    "print(np.mean(arr))\n",
    "\n",
    "#Median\n",
    "print(np.median(arr))\n",
    "\n",
    "#Standard deviation\n",
    "print(np.std(arr))"
   ]
  },
  {
   "cell_type": "markdown",
   "metadata": {
    "id": "4h4J3wlaSvJo"
   },
   "source": [
    "**7. Dot Product** <br>\n",
    "Create two 2x2 matrices. Compute their dot product"
   ]
  },
  {
   "cell_type": "code",
   "execution_count": null,
   "metadata": {
    "colab": {
     "base_uri": "https://localhost:8080/"
    },
    "executionInfo": {
     "elapsed": 583,
     "status": "ok",
     "timestamp": 1736363011355,
     "user": {
      "displayName": "Ravi Panchal",
      "userId": "18150385695476416105"
     },
     "user_tz": -330
    },
    "id": "3jkIFVO8S1An",
    "outputId": "0f835573-9f84-4986-df84-6b87566c250f"
   },
   "outputs": [
    {
     "name": "stdout",
     "output_type": "stream",
     "text": [
      "[[19 22]\n",
      " [43 50]]\n"
     ]
    }
   ],
   "source": [
    "import numpy as np\n",
    "arr1=np.array([[1,2],[3,4]])\n",
    "arr2=np.array([[5,6],[7,8]])\n",
    "print(np.dot(arr1,arr2))"
   ]
  },
  {
   "cell_type": "markdown",
   "metadata": {
    "id": "UErU6P6UTZ-1"
   },
   "source": [
    "**8. Conditional Selection** <br>\n",
    "Create an array of 20 random integers between 1 and 50. Extract all elements:\n",
    "1. Greater than 25\n",
    "2. Divisible by 5"
   ]
  },
  {
   "cell_type": "code",
   "execution_count": null,
   "metadata": {
    "colab": {
     "base_uri": "https://localhost:8080/"
    },
    "executionInfo": {
     "elapsed": 9,
     "status": "ok",
     "timestamp": 1736363247075,
     "user": {
      "displayName": "Ravi Panchal",
      "userId": "18150385695476416105"
     },
     "user_tz": -330
    },
    "id": "iUUwC-xhTlG_",
    "outputId": "1dbd0aef-8a3c-450d-8bb1-e3db6614a252"
   },
   "outputs": [
    {
     "name": "stdout",
     "output_type": "stream",
     "text": [
      "[42 45 23 13 16 10 49 31  1  9 16 29 48 21 36  3 26 50 50 19]\n",
      "[42 45 49 31 29 48 36 26 50 50]\n",
      "[45 10 50 50]\n"
     ]
    }
   ],
   "source": [
    "import numpy as np\n",
    "arr=np.random.randint(1,51,20)\n",
    "print(arr)\n",
    "#Greater than 25\n",
    "print(arr[arr>25])\n",
    "\n",
    "#Divisible by 5\n",
    "print(arr[arr%5==0])\n"
   ]
  },
  {
   "cell_type": "markdown",
   "metadata": {
    "id": "nf6aOy4uUYBh"
   },
   "source": [
    "**9. Masking**  <br>\n",
    "Create a 5x5 matrix of random integers between 10 and 50. Replace all values\n",
    "greater than 30 with -1."
   ]
  },
  {
   "cell_type": "code",
   "execution_count": null,
   "metadata": {
    "colab": {
     "base_uri": "https://localhost:8080/"
    },
    "executionInfo": {
     "elapsed": 552,
     "status": "ok",
     "timestamp": 1736363458227,
     "user": {
      "displayName": "Ravi Panchal",
      "userId": "18150385695476416105"
     },
     "user_tz": -330
    },
    "id": "s9M_W007UdcP",
    "outputId": "1bdf78a0-9737-45fa-a8fc-bcca1d683430"
   },
   "outputs": [
    {
     "name": "stdout",
     "output_type": "stream",
     "text": [
      "[[37 23 50 34 11]\n",
      " [27 15 48 48 21]\n",
      " [28 41 27 29 25]\n",
      " [28 26 50 28 13]\n",
      " [24 17 46 14 10]]\n",
      "[[-1 23 -1 -1 11]\n",
      " [27 15 -1 -1 21]\n",
      " [28 -1 27 29 25]\n",
      " [28 26 -1 28 13]\n",
      " [24 17 -1 14 10]]\n"
     ]
    }
   ],
   "source": [
    "import numpy as np\n",
    "arr=np.random.randint(10,51,(5,5))\n",
    "print(arr)\n",
    "arr[arr>30]=-1\n",
    "print(arr)\n"
   ]
  },
  {
   "cell_type": "markdown",
   "metadata": {
    "id": "yHFnEuXEVAPH"
   },
   "source": [
    "**10.Broadcasting** <br>\n",
    "Create a 4x4 array and add a 1D array of size 4 to it using broadcasting."
   ]
  },
  {
   "cell_type": "code",
   "execution_count": null,
   "metadata": {
    "colab": {
     "base_uri": "https://localhost:8080/"
    },
    "executionInfo": {
     "elapsed": 643,
     "status": "ok",
     "timestamp": 1736363867357,
     "user": {
      "displayName": "Ravi Panchal",
      "userId": "18150385695476416105"
     },
     "user_tz": -330
    },
    "id": "ggNcVuACVIRI",
    "outputId": "974601e3-066b-49df-f5e1-2a4ac85217e2"
   },
   "outputs": [
    {
     "name": "stdout",
     "output_type": "stream",
     "text": [
      "[[7 5 2 4]\n",
      " [1 5 2 1]\n",
      " [8 9 9 5]\n",
      " [5 8 1 7]]\n",
      "[1 2 3 4]\n",
      "Addition:\n",
      " [[ 8  7  5  8]\n",
      " [ 2  7  5  5]\n",
      " [ 9 11 12  9]\n",
      " [ 6 10  4 11]]\n"
     ]
    }
   ],
   "source": [
    "import numpy as np\n",
    "arr1=np.random.randint(1,10,(4,4))\n",
    "arr2=np.array([1,2,3,4])\n",
    "print(arr1)\n",
    "print(arr2)\n",
    "print(\"Addition:\\n\",(arr1+arr2))"
   ]
  },
  {
   "cell_type": "markdown",
   "metadata": {
    "id": "-ftFVThuWuwH"
   },
   "source": [
    "**11.Stacking and Splitting** <br>\n",
    "Create two 1D arrays of size 10 each.\n",
    "1. Stack them vertically and horizontally.\n",
    "2. Split the resulting vertical stack into two equal parts."
   ]
  },
  {
   "cell_type": "code",
   "execution_count": null,
   "metadata": {
    "colab": {
     "base_uri": "https://localhost:8080/"
    },
    "executionInfo": {
     "elapsed": 747,
     "status": "ok",
     "timestamp": 1736420401963,
     "user": {
      "displayName": "Ravi Panchal",
      "userId": "18150385695476416105"
     },
     "user_tz": -330
    },
    "id": "hTfnjhWIWzMZ",
    "outputId": "d3acc18d-6614-4cc9-ed4b-d4af47e3cc69"
   },
   "outputs": [
    {
     "name": "stdout",
     "output_type": "stream",
     "text": [
      "[ 1  2  3  4  5  6  7  8  9 10 11 12 13 14 15 16 17 18 19 20]\n",
      "[[ 1  2  3  4  5  6  7  8  9 10]\n",
      " [11 12 13 14 15 16 17 18 19 20]]\n",
      "[array([[ 1,  2,  3,  4,  5,  6,  7,  8,  9, 10]]), array([[11, 12, 13, 14, 15, 16, 17, 18, 19, 20]])]\n"
     ]
    }
   ],
   "source": [
    "import numpy as np\n",
    "arr1=np.array([1,2,3,4,5,6,7,8,9,10])\n",
    "arr2=np.array([11,12,13,14,15,16,17,18,19,20])\n",
    "print(np.hstack((arr1,arr2)))   #horizontally stack\n",
    "print(np.vstack((arr1,arr2)))   #vertical stack\n",
    "\n",
    "\n",
    "#split the resulting vertical stack into two parts\n",
    "\n",
    "arr3=np.vstack((arr1,arr2))\n",
    "print(np.split(arr3,2))\n",
    "\n"
   ]
  },
  {
   "cell_type": "markdown",
   "metadata": {
    "id": "rw6CFRnBuR_N"
   },
   "source": [
    "**12.Sorting** <br>\n",
    "Create a 1D array of 15 random integers between 1 and 100. Sort it:\n",
    "1. In ascending order\n",
    "2. In descending order"
   ]
  },
  {
   "cell_type": "code",
   "execution_count": null,
   "metadata": {
    "colab": {
     "base_uri": "https://localhost:8080/"
    },
    "executionInfo": {
     "elapsed": 397,
     "status": "ok",
     "timestamp": 1736420653008,
     "user": {
      "displayName": "Ravi Panchal",
      "userId": "18150385695476416105"
     },
     "user_tz": -330
    },
    "id": "f5snz1uJuemt",
    "outputId": "c98156d9-9169-4a2b-f50b-024aedbedc2b"
   },
   "outputs": [
    {
     "name": "stdout",
     "output_type": "stream",
     "text": [
      "[29 23 20 80 71 97 60 97 83 16 54 82 22 38 41]\n",
      "[16 20 22 23 29 38 41 54 60 71 80 82 83 97 97]\n",
      "[97 97 83 82 80 71 60 54 41 38 29 23 22 20 16]\n"
     ]
    }
   ],
   "source": [
    "import numpy as np\n",
    "arr=np.random.randint(1,101,15)\n",
    "print(arr)\n",
    "\n",
    "#ascending order\n",
    "print(np.sort(arr))\n",
    "\n",
    "#descending order\n",
    "arr2=np.sort(arr)\n",
    "print(arr2[::-1])"
   ]
  },
  {
   "cell_type": "markdown",
   "metadata": {
    "id": "f6lXvbecvMaQ"
   },
   "source": [
    "**13.Unique Elements**  <br>\n",
    "Create a 1D array of 20 random integers with possible duplicate values. Find all\n",
    "unique elements and their counts."
   ]
  },
  {
   "cell_type": "code",
   "execution_count": null,
   "metadata": {
    "colab": {
     "base_uri": "https://localhost:8080/"
    },
    "executionInfo": {
     "elapsed": 695,
     "status": "ok",
     "timestamp": 1736421363278,
     "user": {
      "displayName": "Ravi Panchal",
      "userId": "18150385695476416105"
     },
     "user_tz": -330
    },
    "id": "wrR_tL5JvTKX",
    "outputId": "073c7c77-f1f5-41e8-b7d1-ce7ffceb25fe"
   },
   "outputs": [
    {
     "name": "stdout",
     "output_type": "stream",
     "text": [
      "[10  9  4  1  4  3  2  1  6  2  5  4  8  4  3  9  6  7  7  3]\n",
      "(array([ 1,  2,  3,  4,  5,  6,  7,  8,  9, 10]), array([2, 2, 3, 4, 1, 2, 2, 1, 2, 1]))\n"
     ]
    }
   ],
   "source": [
    "import numpy as np\n",
    "arr=np.random.randint(1,11,20)\n",
    "print(arr)\n",
    "\n",
    "print(np.unique(arr,return_counts=True))\n",
    "\n"
   ]
  },
  {
   "cell_type": "markdown",
   "metadata": {
    "id": "o0dPl_NGx5QB"
   },
   "source": [
    "**14.Special Arrays** <br>\n",
    "Create the following arrays using NumPy:\n",
    "1. A 3x3 identity matrix\n",
    "2. A diagonal matrix with [5, 10, 15] on the diagonal\n",
    "3. A 4x4 matrix filled with zeros except for a border of ones"
   ]
  },
  {
   "cell_type": "code",
   "execution_count": null,
   "metadata": {
    "colab": {
     "base_uri": "https://localhost:8080/"
    },
    "executionInfo": {
     "elapsed": 527,
     "status": "ok",
     "timestamp": 1736421675994,
     "user": {
      "displayName": "Ravi Panchal",
      "userId": "18150385695476416105"
     },
     "user_tz": -330
    },
    "id": "yTlTfN8NyAne",
    "outputId": "21d6e071-2e60-4a28-f28e-c3737e7e1d57"
   },
   "outputs": [
    {
     "name": "stdout",
     "output_type": "stream",
     "text": [
      "[[1. 0. 0.]\n",
      " [0. 1. 0.]\n",
      " [0. 0. 1.]]\n",
      "[[ 5  0  0]\n",
      " [ 0 10  0]\n",
      " [ 0  0 15]]\n",
      "[[0. 0. 0. 0.]\n",
      " [0. 1. 1. 0.]\n",
      " [0. 1. 1. 0.]\n",
      " [0. 0. 0. 0.]]\n"
     ]
    }
   ],
   "source": [
    "import numpy as np\n",
    "\n",
    "#Identity Matrix\n",
    "print(np.identity(3))\n",
    "\n",
    "#diagonal Matrix\n",
    "print(np.diag([5,10,15]))\n",
    "\n",
    "#Zeroes Matrix\n",
    "arr=np.zeros((4,4))\n",
    "arr[1:-1,1:-1]=1\n",
    "print(arr)\n"
   ]
  },
  {
   "cell_type": "markdown",
   "metadata": {
    "id": "l1Nf3fWQzGYY"
   },
   "source": [
    "**15.Use Case: Linear Algebra** <br>\n",
    "Solve the system of linear equations:\n",
    "1. 3x+2y+z=10\n",
    "2. 2x+3y+3z=18\n",
    "3. x+y+2z=8 <br>\n",
    "Use NumPy's linalg.solve to find x,y,z."
   ]
  },
  {
   "cell_type": "code",
   "execution_count": null,
   "metadata": {
    "colab": {
     "base_uri": "https://localhost:8080/"
    },
    "executionInfo": {
     "elapsed": 459,
     "status": "ok",
     "timestamp": 1736422014593,
     "user": {
      "displayName": "Ravi Panchal",
      "userId": "18150385695476416105"
     },
     "user_tz": -330
    },
    "id": "O5UvPRLDzqRc",
    "outputId": "d3043ff7-45fc-4825-abcb-570e69132253"
   },
   "outputs": [
    {
     "name": "stdout",
     "output_type": "stream",
     "text": [
      "[0. 4. 2.]\n"
     ]
    }
   ],
   "source": [
    "import numpy as np\n",
    "arr1=np.array([[3,2,1],[2,3,3],[1,1,2]])\n",
    "arr2=np.array([10,18,8])\n",
    "print(np.linalg.solve(arr1,arr2))"
   ]
  },
  {
   "cell_type": "markdown",
   "metadata": {
    "id": "dXflBiIJ00tk"
   },
   "source": [
    "# Part 2: Exploration of Pandas"
   ]
  },
  {
   "cell_type": "markdown",
   "metadata": {
    "id": "KqvfkKoE03Ha"
   },
   "source": [
    "**1. Series Creation** <br>\n",
    "Create a Pandas Series using a Python list, a NumPy array, and a dictionary.<br> Print the index, values, and data type of each Series."
   ]
  },
  {
   "cell_type": "code",
   "execution_count": null,
   "metadata": {
    "colab": {
     "base_uri": "https://localhost:8080/"
    },
    "executionInfo": {
     "elapsed": 7,
     "status": "ok",
     "timestamp": 1736689140080,
     "user": {
      "displayName": "Ravi Panchal",
      "userId": "18150385695476416105"
     },
     "user_tz": -330
    },
    "id": "3sg0spk3uK2W",
    "outputId": "b0398164-620b-49dd-99aa-10b619436e44"
   },
   "outputs": [
    {
     "name": "stdout",
     "output_type": "stream",
     "text": [
      "RangeIndex(start=0, stop=5, step=1)\n",
      "[1 2 3 4 5]\n",
      "int64\n"
     ]
    }
   ],
   "source": [
    "import pandas as pd\n",
    "pd.Series([1,2,3,4,5])\n",
    "pd.Series(np.array([1,2,3,4,5]))\n",
    "pd.Series({1:'a',2:'b',3:'c',4:'d',5:'e'})\n",
    "print((pd.Series([1,2,3,4,5])).index)\n",
    "print((pd.Series([1,2,3,4,5])).values)\n",
    "print((pd.Series([1,2,3,4,5])).dtype)\n"
   ]
  },
  {
   "cell_type": "markdown",
   "metadata": {
    "id": "suB665A6vaAq"
   },
   "source": [
    "**2. DataFrame Creation** <br>\n",
    "Create a DataFrame from:\n",
    "1. A dictionary of lists\n",
    "2. A NumPy array\n",
    "3. A CSV file (use a sample dataset)"
   ]
  },
  {
   "cell_type": "code",
   "execution_count": null,
   "metadata": {
    "colab": {
     "base_uri": "https://localhost:8080/"
    },
    "executionInfo": {
     "elapsed": 551,
     "status": "ok",
     "timestamp": 1736689703502,
     "user": {
      "displayName": "Ravi Panchal",
      "userId": "18150385695476416105"
     },
     "user_tz": -330
    },
    "id": "6TuqBjzdxcMm",
    "outputId": "c182cc9a-d7fb-4214-f2d5-6110b23199d5"
   },
   "outputs": [
    {
     "name": "stdout",
     "output_type": "stream",
     "text": [
      "   a   b\n",
      "0  1   6\n",
      "1  2   7\n",
      "2  3   8\n",
      "3  4   9\n",
      "4  5  10\n",
      "   0  1  2  3   4\n",
      "0  1  2  3  4   5\n",
      "1  6  7  8  9  10\n",
      "       longitude  latitude  housing_median_age  total_rooms  total_bedrooms  \\\n",
      "0        -114.31     34.19                15.0       5612.0          1283.0   \n",
      "1        -114.47     34.40                19.0       7650.0          1901.0   \n",
      "2        -114.56     33.69                17.0        720.0           174.0   \n",
      "3        -114.57     33.64                14.0       1501.0           337.0   \n",
      "4        -114.57     33.57                20.0       1454.0           326.0   \n",
      "...          ...       ...                 ...          ...             ...   \n",
      "16995    -124.26     40.58                52.0       2217.0           394.0   \n",
      "16996    -124.27     40.69                36.0       2349.0           528.0   \n",
      "16997    -124.30     41.84                17.0       2677.0           531.0   \n",
      "16998    -124.30     41.80                19.0       2672.0           552.0   \n",
      "16999    -124.35     40.54                52.0       1820.0           300.0   \n",
      "\n",
      "       population  households  median_income  median_house_value  \n",
      "0          1015.0       472.0         1.4936             66900.0  \n",
      "1          1129.0       463.0         1.8200             80100.0  \n",
      "2           333.0       117.0         1.6509             85700.0  \n",
      "3           515.0       226.0         3.1917             73400.0  \n",
      "4           624.0       262.0         1.9250             65500.0  \n",
      "...           ...         ...            ...                 ...  \n",
      "16995       907.0       369.0         2.3571            111400.0  \n",
      "16996      1194.0       465.0         2.5179             79000.0  \n",
      "16997      1244.0       456.0         3.0313            103600.0  \n",
      "16998      1298.0       478.0         1.9797             85800.0  \n",
      "16999       806.0       270.0         3.0147             94600.0  \n",
      "\n",
      "[17000 rows x 9 columns]\n"
     ]
    }
   ],
   "source": [
    "import pandas as pd\n",
    "data=pd.DataFrame({'a':[1,2,3,4,5],'b':[6,7,8,9,10]})\n",
    "print(data)\n",
    "\n",
    "data=pd.DataFrame(np.array([[1,2,3,4,5],[6,7,8,9,10]]))\n",
    "print(data)\n",
    "\n",
    "data=pd.read_csv(\"/content/sample_data/california_housing_train.csv\")\n",
    "print(data)"
   ]
  },
  {
   "cell_type": "markdown",
   "metadata": {
    "id": "7c0E2gzqxeLL"
   },
   "source": [
    "**3. Data Inspection** <br>\n",
    "Use the following methods on the DataFrame created in Task 2:\n",
    "1. .head()\n",
    "2. .tail()\n",
    "3. .info()\n",
    "4. .describe()"
   ]
  },
  {
   "cell_type": "code",
   "execution_count": null,
   "metadata": {
    "colab": {
     "base_uri": "https://localhost:8080/"
    },
    "executionInfo": {
     "elapsed": 606,
     "status": "ok",
     "timestamp": 1736689856844,
     "user": {
      "displayName": "Ravi Panchal",
      "userId": "18150385695476416105"
     },
     "user_tz": -330
    },
    "id": "6lplM2xixqQf",
    "outputId": "196250bf-ffc1-4cde-83e4-ba768af17001"
   },
   "outputs": [
    {
     "name": "stdout",
     "output_type": "stream",
     "text": [
      "   longitude  latitude  housing_median_age  total_rooms  total_bedrooms  \\\n",
      "0    -114.31     34.19                15.0       5612.0          1283.0   \n",
      "1    -114.47     34.40                19.0       7650.0          1901.0   \n",
      "2    -114.56     33.69                17.0        720.0           174.0   \n",
      "3    -114.57     33.64                14.0       1501.0           337.0   \n",
      "4    -114.57     33.57                20.0       1454.0           326.0   \n",
      "\n",
      "   population  households  median_income  median_house_value  \n",
      "0      1015.0       472.0         1.4936             66900.0  \n",
      "1      1129.0       463.0         1.8200             80100.0  \n",
      "2       333.0       117.0         1.6509             85700.0  \n",
      "3       515.0       226.0         3.1917             73400.0  \n",
      "4       624.0       262.0         1.9250             65500.0  \n",
      "       longitude  latitude  housing_median_age  total_rooms  total_bedrooms  \\\n",
      "16995    -124.26     40.58                52.0       2217.0           394.0   \n",
      "16996    -124.27     40.69                36.0       2349.0           528.0   \n",
      "16997    -124.30     41.84                17.0       2677.0           531.0   \n",
      "16998    -124.30     41.80                19.0       2672.0           552.0   \n",
      "16999    -124.35     40.54                52.0       1820.0           300.0   \n",
      "\n",
      "       population  households  median_income  median_house_value  \n",
      "16995       907.0       369.0         2.3571            111400.0  \n",
      "16996      1194.0       465.0         2.5179             79000.0  \n",
      "16997      1244.0       456.0         3.0313            103600.0  \n",
      "16998      1298.0       478.0         1.9797             85800.0  \n",
      "16999       806.0       270.0         3.0147             94600.0  \n",
      "<class 'pandas.core.frame.DataFrame'>\n",
      "RangeIndex: 17000 entries, 0 to 16999\n",
      "Data columns (total 9 columns):\n",
      " #   Column              Non-Null Count  Dtype  \n",
      "---  ------              --------------  -----  \n",
      " 0   longitude           17000 non-null  float64\n",
      " 1   latitude            17000 non-null  float64\n",
      " 2   housing_median_age  17000 non-null  float64\n",
      " 3   total_rooms         17000 non-null  float64\n",
      " 4   total_bedrooms      17000 non-null  float64\n",
      " 5   population          17000 non-null  float64\n",
      " 6   households          17000 non-null  float64\n",
      " 7   median_income       17000 non-null  float64\n",
      " 8   median_house_value  17000 non-null  float64\n",
      "dtypes: float64(9)\n",
      "memory usage: 1.2 MB\n",
      "None\n",
      "          longitude      latitude  housing_median_age   total_rooms  \\\n",
      "count  17000.000000  17000.000000        17000.000000  17000.000000   \n",
      "mean    -119.562108     35.625225           28.589353   2643.664412   \n",
      "std        2.005166      2.137340           12.586937   2179.947071   \n",
      "min     -124.350000     32.540000            1.000000      2.000000   \n",
      "25%     -121.790000     33.930000           18.000000   1462.000000   \n",
      "50%     -118.490000     34.250000           29.000000   2127.000000   \n",
      "75%     -118.000000     37.720000           37.000000   3151.250000   \n",
      "max     -114.310000     41.950000           52.000000  37937.000000   \n",
      "\n",
      "       total_bedrooms    population    households  median_income  \\\n",
      "count    17000.000000  17000.000000  17000.000000   17000.000000   \n",
      "mean       539.410824   1429.573941    501.221941       3.883578   \n",
      "std        421.499452   1147.852959    384.520841       1.908157   \n",
      "min          1.000000      3.000000      1.000000       0.499900   \n",
      "25%        297.000000    790.000000    282.000000       2.566375   \n",
      "50%        434.000000   1167.000000    409.000000       3.544600   \n",
      "75%        648.250000   1721.000000    605.250000       4.767000   \n",
      "max       6445.000000  35682.000000   6082.000000      15.000100   \n",
      "\n",
      "       median_house_value  \n",
      "count        17000.000000  \n",
      "mean        207300.912353  \n",
      "std         115983.764387  \n",
      "min          14999.000000  \n",
      "25%         119400.000000  \n",
      "50%         180400.000000  \n",
      "75%         265000.000000  \n",
      "max         500001.000000  \n"
     ]
    }
   ],
   "source": [
    "import pandas as pd\n",
    "data=pd.read_csv(\"/content/sample_data/california_housing_train.csv\")\n",
    "print(data.head())\n",
    "print(data.tail())\n",
    "print(data.info())\n",
    "print(data.describe())"
   ]
  },
  {
   "cell_type": "markdown",
   "metadata": {
    "id": "FfxTs__8yFdA"
   },
   "source": [
    "**4. Data Selection** <br>\n",
    "From the DataFrame created in Task 2, extract:\n",
    "1. A single column\n",
    "2. Multiple columns\n",
    "3. Rows using .iloc and .loc"
   ]
  },
  {
   "cell_type": "code",
   "execution_count": null,
   "metadata": {
    "colab": {
     "base_uri": "https://localhost:8080/"
    },
    "executionInfo": {
     "elapsed": 604,
     "status": "ok",
     "timestamp": 1736692750029,
     "user": {
      "displayName": "Ravi Panchal",
      "userId": "18150385695476416105"
     },
     "user_tz": -330
    },
    "id": "eZFzzrx5yVyr",
    "outputId": "6fc5d280-3421-4ab3-e085-ede4e3ed2f46"
   },
   "outputs": [
    {
     "name": "stdout",
     "output_type": "stream",
     "text": [
      "0       -114.31\n",
      "1       -114.47\n",
      "2       -114.56\n",
      "3       -114.57\n",
      "4       -114.57\n",
      "          ...  \n",
      "16995   -124.26\n",
      "16996   -124.27\n",
      "16997   -124.30\n",
      "16998   -124.30\n",
      "16999   -124.35\n",
      "Name: longitude, Length: 17000, dtype: float64\n",
      "       longitude  latitude\n",
      "0        -114.31     34.19\n",
      "1        -114.47     34.40\n",
      "2        -114.56     33.69\n",
      "3        -114.57     33.64\n",
      "4        -114.57     33.57\n",
      "...          ...       ...\n",
      "16995    -124.26     40.58\n",
      "16996    -124.27     40.69\n",
      "16997    -124.30     41.84\n",
      "16998    -124.30     41.80\n",
      "16999    -124.35     40.54\n",
      "\n",
      "[17000 rows x 2 columns]\n",
      "   longitude  latitude  housing_median_age  total_rooms  total_bedrooms  \\\n",
      "0    -114.31     34.19                15.0       5612.0          1283.0   \n",
      "1    -114.47     34.40                19.0       7650.0          1901.0   \n",
      "2    -114.56     33.69                17.0        720.0           174.0   \n",
      "3    -114.57     33.64                14.0       1501.0           337.0   \n",
      "4    -114.57     33.57                20.0       1454.0           326.0   \n",
      "\n",
      "   population  households  median_income  median_house_value  \n",
      "0      1015.0       472.0         1.4936             66900.0  \n",
      "1      1129.0       463.0         1.8200             80100.0  \n",
      "2       333.0       117.0         1.6509             85700.0  \n",
      "3       515.0       226.0         3.1917             73400.0  \n",
      "4       624.0       262.0         1.9250             65500.0  \n",
      "   longitude  latitude  housing_median_age  total_rooms  total_bedrooms  \\\n",
      "0    -114.31     34.19                15.0       5612.0          1283.0   \n",
      "1    -114.47     34.40                19.0       7650.0          1901.0   \n",
      "2    -114.56     33.69                17.0        720.0           174.0   \n",
      "3    -114.57     33.64                14.0       1501.0           337.0   \n",
      "4    -114.57     33.57                20.0       1454.0           326.0   \n",
      "5    -114.58     33.63                29.0       1387.0           236.0   \n",
      "\n",
      "   population  households  median_income  median_house_value  \n",
      "0      1015.0       472.0         1.4936             66900.0  \n",
      "1      1129.0       463.0         1.8200             80100.0  \n",
      "2       333.0       117.0         1.6509             85700.0  \n",
      "3       515.0       226.0         3.1917             73400.0  \n",
      "4       624.0       262.0         1.9250             65500.0  \n",
      "5       671.0       239.0         3.3438             74000.0  \n"
     ]
    }
   ],
   "source": [
    "import pandas as pd\n",
    "data=pd.read_csv(\"/content/sample_data/california_housing_train.csv\")\n",
    "print(data['longitude'])\n",
    "print(data[['longitude','latitude']])\n",
    "print(data.iloc[0:5])\n",
    "print(data.loc[0:5])\n"
   ]
  },
  {
   "cell_type": "markdown",
   "metadata": {
    "id": "mWy5irmz9Gqg"
   },
   "source": [
    "**5. Filtering Data** <br>\n",
    "Create a DataFrame of student scores with columns: Name, Subject, and Score.<br>\n",
    "Extract rows where the score is greater than 80 and subject is \"Mathematics\"."
   ]
  },
  {
   "cell_type": "code",
   "execution_count": 62,
   "metadata": {
    "colab": {
     "base_uri": "https://localhost:8080/"
    },
    "executionInfo": {
     "elapsed": 499,
     "status": "ok",
     "timestamp": 1736705327018,
     "user": {
      "displayName": "Ravi Panchal",
      "userId": "18150385695476416105"
     },
     "user_tz": -330
    },
    "id": "uFzlGYzv9O1x",
    "outputId": "d8cbae41-e360-4c3b-b3f1-90b5d4d8f922"
   },
   "outputs": [
    {
     "name": "stdout",
     "output_type": "stream",
     "text": [
      "Filtered Rows:\n",
      "    Name      Subject  Score\n",
      "0  John  Mathematics     85\n",
      "1  Jane  Mathematics     92\n",
      "3  Jack  Mathematics     88\n"
     ]
    }
   ],
   "source": [
    "# import pandas as pd\n",
    "# data=pd.DataFrame({'Name':['Ravi','Rishav','Abhinav'],\n",
    "#                    'Subject':['Mathematics','Science','Economics'],\n",
    "#                    'Score':[85,70,88]\n",
    "#                    })\n",
    "# print(data)\n",
    "# print(data[(data['Score']>80 and data['Subject']=='Mathematics')])\n",
    "\n",
    "\n",
    "\n",
    "import pandas as pd\n",
    "\n",
    "student_scores = pd.DataFrame({\n",
    "    'Name': ['John', 'Jane', 'Jim', 'Jack', 'Jill'],\n",
    "    'Subject': ['Mathematics', 'Mathematics', 'Science', 'Mathematics', 'History'],\n",
    "    'Score': [85, 92, 78, 88, 65]\n",
    "})\n",
    "\n",
    "\n",
    "filtered_data = student_scores[(student_scores['Score'] > 80) & (student_scores['Subject'] == 'Mathematics')]\n",
    "\n",
    "print(\"Filtered Rows:\\n\", filtered_data)\n",
    "\n",
    "\n",
    "\n",
    "\n",
    "\n",
    "\n",
    "\n"
   ]
  },
  {
   "cell_type": "markdown",
   "metadata": {
    "id": "rBc4IPRhFYNi"
   },
   "source": [
    "**6. Adding and Removing Columns** <br>\n",
    "Create a DataFrame and add a new column based on existing columns. Remove\n",
    "a column using both del and .drop()."
   ]
  },
  {
   "cell_type": "code",
   "execution_count": null,
   "metadata": {
    "colab": {
     "base_uri": "https://localhost:8080/"
    },
    "executionInfo": {
     "elapsed": 6,
     "status": "ok",
     "timestamp": 1736695172064,
     "user": {
      "displayName": "Ravi Panchal",
      "userId": "18150385695476416105"
     },
     "user_tz": -330
    },
    "id": "4Fwsq6yIFhd7",
    "outputId": "9cd3af1e-6081-461f-a342-03941ed819ca"
   },
   "outputs": [
    {
     "name": "stdout",
     "output_type": "stream",
     "text": [
      "   a   b\n",
      "0  1   6\n",
      "1  2   7\n",
      "2  3   8\n",
      "3  4   9\n",
      "4  5  10\n",
      "   a   b   c\n",
      "0  1   6   7\n",
      "1  2   7   9\n",
      "2  3   8  11\n",
      "3  4   9  13\n",
      "4  5  10  15\n",
      "   a   b\n",
      "0  1   6\n",
      "1  2   7\n",
      "2  3   8\n",
      "3  4   9\n",
      "4  5  10\n",
      "   a   b\n",
      "0  1   6\n",
      "1  2   7\n",
      "2  3   8\n",
      "3  4   9\n",
      "4  5  10\n"
     ]
    }
   ],
   "source": [
    "import pandas as pd\n",
    "data=pd.DataFrame({'a':[1,2,3,4,5],'b':[6,7,8,9,10]})\n",
    "print(data)\n",
    "data['c']=data['a']+data['b']\n",
    "print(data)\n",
    "del data['c']\n",
    "print(data)\n",
    "data.drop('b',axis=1)\n",
    "print(data)"
   ]
  },
  {
   "cell_type": "markdown",
   "metadata": {
    "id": "tlbHm2C7GWd0"
   },
   "source": [
    "**7. Sorting**<br>\n",
    "Create a DataFrame with random data. Sort it:\n",
    "1. By a single column in ascending order\n",
    "2. By multiple columns in descending order"
   ]
  },
  {
   "cell_type": "code",
   "execution_count": 16,
   "metadata": {
    "colab": {
     "base_uri": "https://localhost:8080/"
    },
    "executionInfo": {
     "elapsed": 5,
     "status": "ok",
     "timestamp": 1736700608623,
     "user": {
      "displayName": "Ravi Panchal",
      "userId": "18150385695476416105"
     },
     "user_tz": -330
    },
    "id": "aABKmixlWdXc",
    "outputId": "06cbda54-b91c-477c-ae6a-204571285b26"
   },
   "outputs": [
    {
     "name": "stdout",
     "output_type": "stream",
     "text": [
      "    a   b   c   d   e\n",
      "0   1  59  60  68  27\n",
      "1  66  73  30  75  70\n",
      "2   5  29  94  76   4\n",
      "3  35  81   5  22   7\n",
      "4   4  52  72   3  65\n",
      "    a   b   c   d   e\n",
      "0   1  59  60  68  27\n",
      "4   4  52  72   3  65\n",
      "2   5  29  94  76   4\n",
      "3  35  81   5  22   7\n",
      "1  66  73  30  75  70\n",
      "    a   b   c   d   e\n",
      "1  66  73  30  75  70\n",
      "3  35  81   5  22   7\n",
      "2   5  29  94  76   4\n",
      "4   4  52  72   3  65\n",
      "0   1  59  60  68  27\n"
     ]
    }
   ],
   "source": [
    "import pandas as pd\n",
    "import numpy as np\n",
    "data=pd.DataFrame(np.random.randint(1,100,(5,5)))\n",
    "data.columns=['a','b','c','d','e']\n",
    "print(data)\n",
    "print(data.sort_values(by='a'))\n",
    "print(data.sort_values(by=['a','b'],ascending=False))\n",
    "\n",
    "\n"
   ]
  },
  {
   "cell_type": "markdown",
   "metadata": {
    "id": "G7W2vye3ZGaC"
   },
   "source": [
    "**Renaming Columns and Index** <br>\n",
    "Rename the columns and index of a DataFrame.<br>\n",
    "Use both rename() and direct\n",
    "assignment."
   ]
  },
  {
   "cell_type": "code",
   "execution_count": 17,
   "metadata": {
    "colab": {
     "base_uri": "https://localhost:8080/"
    },
    "executionInfo": {
     "elapsed": 6,
     "status": "ok",
     "timestamp": 1736700672984,
     "user": {
      "displayName": "Ravi Panchal",
      "userId": "18150385695476416105"
     },
     "user_tz": -330
    },
    "id": "xVpuu4jiZnXu",
    "outputId": "b597167d-4200-4f4e-f60c-0dd19b0b9c1b"
   },
   "outputs": [
    {
     "name": "stdout",
     "output_type": "stream",
     "text": [
      "    a   b   c   d   e\n",
      "0  94  83  44   9  37\n",
      "1  98  66  99  28  60\n",
      "2  14  25  41  58  74\n",
      "3   8  44  59  12  26\n",
      "4  49  66  40  99  53\n",
      "    A   B   C   D   E\n",
      "0  94  83  44   9  37\n",
      "1  98  66  99  28  60\n",
      "2  14  25  41  58  74\n",
      "3   8  44  59  12  26\n",
      "4  49  66  40  99  53\n",
      "    A   B   C   D   E\n",
      "1  94  83  44   9  37\n",
      "2  98  66  99  28  60\n",
      "3  14  25  41  58  74\n",
      "4   8  44  59  12  26\n",
      "5  49  66  40  99  53\n"
     ]
    }
   ],
   "source": [
    "import pandas as pd\n",
    "import numpy as np\n",
    "data=pd.DataFrame(np.random.randint(1,100,(5,5)))\n",
    "data.columns=['a','b','c','d','e']\n",
    "print(data)\n",
    "data.rename(columns={'a':'A','b':'B','c':'C','d':'D','e':'E'},inplace=True)\n",
    "print(data)\n",
    "data.index=[1,2,3,4,5]\n",
    "print(data)\n",
    "\n",
    "\n"
   ]
  },
  {
   "cell_type": "markdown",
   "metadata": {
    "id": "6MBdhLHtbU0T"
   },
   "source": [
    "**9. Detecting Missing Values** <br>\n",
    "Create a DataFrame with some missing values. Use:<br>\n",
    "1. .isnull() and .notnull()\n",
    "2. .sum() to count missing values per column"
   ]
  },
  {
   "cell_type": "code",
   "execution_count": 20,
   "metadata": {
    "colab": {
     "base_uri": "https://localhost:8080/"
    },
    "executionInfo": {
     "elapsed": 401,
     "status": "ok",
     "timestamp": 1736700942325,
     "user": {
      "displayName": "Ravi Panchal",
      "userId": "18150385695476416105"
     },
     "user_tz": -330
    },
    "id": "yGeNrHPybe93",
    "outputId": "7d970bb2-dc5a-4583-b32c-485fc3ac61bc"
   },
   "outputs": [
    {
     "name": "stdout",
     "output_type": "stream",
     "text": [
      "    a     b     c     d   e\n",
      "0  68  46.0  26.0  72.0  81\n",
      "1  15   NaN  43.0  93.0  28\n",
      "2  95  85.0   NaN  72.0  88\n",
      "3  87  88.0  74.0   NaN  16\n",
      "4  89  36.0  97.0  84.0  76\n",
      "       a      b      c      d      e\n",
      "0  False  False  False  False  False\n",
      "1  False   True  False  False  False\n",
      "2  False  False   True  False  False\n",
      "3  False  False  False   True  False\n",
      "4  False  False  False  False  False\n",
      "      a      b      c      d     e\n",
      "0  True   True   True   True  True\n",
      "1  True  False   True   True  True\n",
      "2  True   True  False   True  True\n",
      "3  True   True   True  False  True\n",
      "4  True   True   True   True  True\n",
      "a    0\n",
      "b    1\n",
      "c    1\n",
      "d    1\n",
      "e    0\n",
      "dtype: int64\n"
     ]
    }
   ],
   "source": [
    "import pandas as pd\n",
    "import numpy as np\n",
    "data=pd.DataFrame(np.random.randint(1,100,(5,5)))\n",
    "data.columns=['a','b','c','d','e']\n",
    "data.iloc[1,1]=np.nan\n",
    "data.iloc[2,2]=np.nan\n",
    "data.iloc[3,3]=np.nan\n",
    "print(data)\n",
    "print(data.isnull())\n",
    "print(data.notnull())\n",
    "print(data.isnull().sum())"
   ]
  },
  {
   "cell_type": "markdown",
   "metadata": {
    "id": "Q6rmeU9ucXPz"
   },
   "source": [
    "**10. Filling Missing Values** <br>\n",
    "Fill missing values in the DataFrame using:<br>\n",
    "1. A constant value\n",
    "2. The mean of the column"
   ]
  },
  {
   "cell_type": "code",
   "execution_count": 22,
   "metadata": {
    "colab": {
     "base_uri": "https://localhost:8080/"
    },
    "executionInfo": {
     "elapsed": 6,
     "status": "ok",
     "timestamp": 1736701293387,
     "user": {
      "displayName": "Ravi Panchal",
      "userId": "18150385695476416105"
     },
     "user_tz": -330
    },
    "id": "4MsR-uoZcgC5",
    "outputId": "373eec3e-709d-48a6-f5e6-df5c928703b4"
   },
   "outputs": [
    {
     "name": "stdout",
     "output_type": "stream",
     "text": [
      "    a     b     c     d   e\n",
      "0  33  43.0  74.0  52.0  20\n",
      "1  89   NaN  71.0  35.0  95\n",
      "2  36  11.0   NaN  92.0  26\n",
      "3  66  31.0  70.0   NaN  30\n",
      "4  40  75.0  94.0  25.0  80\n",
      "    a     b     c     d   e\n",
      "0  33  43.0  74.0  52.0  20\n",
      "1  89   0.0  71.0  35.0  95\n",
      "2  36  11.0   0.0  92.0  26\n",
      "3  66  31.0  70.0   0.0  30\n",
      "4  40  75.0  94.0  25.0  80\n",
      "    a     b      c     d   e\n",
      "0  33  43.0  74.00  52.0  20\n",
      "1  89  40.0  71.00  35.0  95\n",
      "2  36  11.0  77.25  92.0  26\n",
      "3  66  31.0  70.00  51.0  30\n",
      "4  40  75.0  94.00  25.0  80\n"
     ]
    }
   ],
   "source": [
    "import pandas as pd\n",
    "import numpy as np\n",
    "data=pd.DataFrame(np.random.randint(1,100,(5,5)))\n",
    "data.columns=['a','b','c','d','e']\n",
    "data.iloc[1,1]=np.nan\n",
    "data.iloc[2,2]=np.nan\n",
    "data.iloc[3,3]=np.nan\n",
    "print(data)\n",
    "print(data.fillna(0))\n",
    "print(data.fillna(data.mean()))"
   ]
  },
  {
   "cell_type": "markdown",
   "metadata": {
    "id": "8ivjezEBdtqt"
   },
   "source": [
    "**11. Dropping Missing Values** <br>\n",
    "Drop rows and columns with missing values using .dropna().<br> Experiment with\n",
    "different axis and how parameters."
   ]
  },
  {
   "cell_type": "code",
   "execution_count": 25,
   "metadata": {
    "colab": {
     "base_uri": "https://localhost:8080/"
    },
    "executionInfo": {
     "elapsed": 364,
     "status": "ok",
     "timestamp": 1736701540785,
     "user": {
      "displayName": "Ravi Panchal",
      "userId": "18150385695476416105"
     },
     "user_tz": -330
    },
    "id": "v7fzXb1wdzxi",
    "outputId": "fbf6e132-8fed-44ec-97dd-41a5719353fb"
   },
   "outputs": [
    {
     "name": "stdout",
     "output_type": "stream",
     "text": [
      "    a     b     c     d   e\n",
      "0  61  98.0  57.0  19.0  87\n",
      "1  16   NaN  37.0  49.0  33\n",
      "2  13  44.0   NaN  41.0  59\n",
      "3  19  20.0  41.0   NaN  98\n",
      "4  59  70.0  58.0  47.0  66\n",
      "    a     b     c     d   e\n",
      "0  61  98.0  57.0  19.0  87\n",
      "4  59  70.0  58.0  47.0  66\n",
      "    a   e\n",
      "0  61  87\n",
      "1  16  33\n",
      "2  13  59\n",
      "3  19  98\n",
      "4  59  66\n"
     ]
    }
   ],
   "source": [
    "import pandas as pd\n",
    "import numpy as np\n",
    "data=pd.DataFrame(np.random.randint(1,100,(5,5)))\n",
    "data.columns=['a','b','c','d','e']\n",
    "data.iloc[1,1]=np.nan\n",
    "data.iloc[2,2]=np.nan\n",
    "data.iloc[3,3]=np.nan\n",
    "print(data)\n",
    "print(data.dropna(axis=0))\n",
    "print(data.dropna(axis=1))"
   ]
  },
  {
   "cell_type": "markdown",
   "metadata": {
    "id": "FMHuoAqXeoT6"
   },
   "source": [
    "**12. GroupBy and Aggregation** <br>\n",
    "Create a DataFrame of sales data with columns: Salesperson, Region, and Sales.<br>\n",
    "Use .groupby() to calculate:<br>\n",
    "1. Total sales per region\n",
    "2. Average sales per salesperson"
   ]
  },
  {
   "cell_type": "code",
   "execution_count": 32,
   "metadata": {
    "colab": {
     "base_uri": "https://localhost:8080/"
    },
    "executionInfo": {
     "elapsed": 377,
     "status": "ok",
     "timestamp": 1736702068995,
     "user": {
      "displayName": "Ravi Panchal",
      "userId": "18150385695476416105"
     },
     "user_tz": -330
    },
    "id": "7ibjL7_le5dY",
    "outputId": "a5891162-659a-47b3-d8aa-0dcc52d5b899"
   },
   "outputs": [
    {
     "name": "stdout",
     "output_type": "stream",
     "text": [
      "  Salesperson Region  Sales\n",
      "0        Ravi   East    200\n",
      "1      Rishav   West    300\n",
      "2     Abhinav  North    400\n",
      "3       Vikas  South    500\n",
      "Region\n",
      "East     200\n",
      "North    400\n",
      "South    500\n",
      "West     300\n",
      "Name: Sales, dtype: int64\n",
      "Salesperson\n",
      "Abhinav    400.0\n",
      "Ravi       200.0\n",
      "Rishav     300.0\n",
      "Vikas      500.0\n",
      "Name: Sales, dtype: float64\n"
     ]
    }
   ],
   "source": [
    "import pandas as pd\n",
    "import numpy as np\n",
    "data=pd.DataFrame({'Salesperson':['Ravi','Rishav','Abhinav','Vikas'],\n",
    "                   'Region':['East','West','North','South'],\n",
    "                   'Sales':[200,300,400,500]\n",
    "                   })\n",
    "print(data)\n",
    "print(data.groupby('Region')['Sales'].sum())\n",
    "print(data.groupby('Salesperson')['Sales'].mean())\n"
   ]
  },
  {
   "cell_type": "markdown",
   "metadata": {
    "id": "DhVtn_ovgqhS"
   },
   "source": [
    "**13. Merging and Joining** <br>\n",
    "Create two DataFrames:<br>\n",
    "1. One with employee details (EmployeeID, Name, Department)\n",
    "2. One with salary details (EmployeeID, Salary)<br>\n",
    "Merge them using different types of joins: inner, outer, left, and right."
   ]
  },
  {
   "cell_type": "code",
   "execution_count": 37,
   "metadata": {
    "colab": {
     "base_uri": "https://localhost:8080/"
    },
    "executionInfo": {
     "elapsed": 596,
     "status": "ok",
     "timestamp": 1736702760413,
     "user": {
      "displayName": "Ravi Panchal",
      "userId": "18150385695476416105"
     },
     "user_tz": -330
    },
    "id": "HwsZXFhOg1Pg",
    "outputId": "23279b35-01ac-419c-fa41-22eb197e2a64"
   },
   "outputs": [
    {
     "name": "stdout",
     "output_type": "stream",
     "text": [
      "   EmployeeId     Name Department\n",
      "0           1     Ravi        CSE\n",
      "1           2   Rishav       AIDS\n",
      "2           3  Abhinav         ME\n",
      "3           4    Vikas         EE\n",
      "   EmployeeId  Salary\n",
      "0           1    1000\n",
      "1           2    2000\n",
      "2           3    3000\n",
      "3           4    4000\n",
      "   EmployeeId     Name Department  Salary\n",
      "0           1     Ravi        CSE    1000\n",
      "1           2   Rishav       AIDS    2000\n",
      "2           3  Abhinav         ME    3000\n",
      "3           4    Vikas         EE    4000\n",
      "   EmployeeId     Name Department  Salary\n",
      "0           1     Ravi        CSE    1000\n",
      "1           2   Rishav       AIDS    2000\n",
      "2           3  Abhinav         ME    3000\n",
      "3           4    Vikas         EE    4000\n",
      "   EmployeeId     Name Department  Salary\n",
      "0           1     Ravi        CSE    1000\n",
      "1           2   Rishav       AIDS    2000\n",
      "2           3  Abhinav         ME    3000\n",
      "3           4    Vikas         EE    4000\n",
      "   EmployeeId     Name Department  Salary\n",
      "0           1     Ravi        CSE    1000\n",
      "1           2   Rishav       AIDS    2000\n",
      "2           3  Abhinav         ME    3000\n",
      "3           4    Vikas         EE    4000\n"
     ]
    }
   ],
   "source": [
    "import numpy as np\n",
    "import pandas as pd\n",
    "data1=pd.DataFrame({'EmployeeId':[1,2,3,4],\n",
    "                    'Name':['Ravi','Rishav','Abhinav','Vikas'],\n",
    "                    'Department':['CSE','AIDS','ME','EE']\n",
    "                    })\n",
    "print(data1)\n",
    "data2=pd.DataFrame({'EmployeeId':[1,2,3,4],\n",
    "                    'Salary':[1000,2000,3000,4000]\n",
    "                    })\n",
    "print(data2)\n",
    "print(pd.merge(data1,data2,on='EmployeeId',how='inner'))\n",
    "print(pd.merge(data1,data2,on='EmployeeId',how='outer'))\n",
    "print(pd.merge(data1,data2,on='EmployeeId',how='left'))\n",
    "print(pd.merge(data1,data2,on='EmployeeId',how='right'))\n"
   ]
  },
  {
   "cell_type": "markdown",
   "metadata": {
    "id": "tIV0t_26jXVp"
   },
   "source": [
    "**14.Pivot Tables** <br>\n",
    "Create a DataFrame with sales data and generate a pivot table to analyze sales\n",
    "by Region and Product."
   ]
  },
  {
   "cell_type": "code",
   "execution_count": 41,
   "metadata": {
    "colab": {
     "base_uri": "https://localhost:8080/"
    },
    "executionInfo": {
     "elapsed": 396,
     "status": "ok",
     "timestamp": 1736703085120,
     "user": {
      "displayName": "Ravi Panchal",
      "userId": "18150385695476416105"
     },
     "user_tz": -330
    },
    "id": "KCBwMTh5jdVN",
    "outputId": "6b0ecdc9-511e-482f-8dc4-950dc16dcf78"
   },
   "outputs": [
    {
     "name": "stdout",
     "output_type": "stream",
     "text": [
      "  Region product  sales\n",
      "0   east       a    100\n",
      "1   west       b    200\n",
      "2  north       c    300\n",
      "3  south       d    400\n",
      "product      a      b      c      d\n",
      "Region                             \n",
      "east     100.0    NaN    NaN    NaN\n",
      "north      NaN    NaN  300.0    NaN\n",
      "south      NaN    NaN    NaN  400.0\n",
      "west       NaN  200.0    NaN    NaN\n"
     ]
    }
   ],
   "source": [
    "import pandas as pd\n",
    "import numpy as np\n",
    "data=pd.DataFrame({'Region':['east','west','north','south'],\n",
    "                   'product':['a','b','c','d'],\n",
    "                   'sales':[100,200,300,400]\n",
    "                   })\n",
    "print(data)\n",
    "print(pd.pivot_table(data,index='Region',columns='product',values='sales',aggfunc='sum'))\n",
    "\n"
   ]
  },
  {
   "cell_type": "markdown",
   "metadata": {
    "id": "Mqi_yZcyklqA"
   },
   "source": [
    "**15. File Operations** <br>\n",
    "1. Read a dataset from a CSV file into a DataFrame.\n",
    "2. Write the DataFrame to an Excel file.\n",
    "3. Read a dataset from an Excel file."
   ]
  },
  {
   "cell_type": "code",
   "execution_count": 49,
   "metadata": {
    "colab": {
     "base_uri": "https://localhost:8080/"
    },
    "executionInfo": {
     "elapsed": 487,
     "status": "ok",
     "timestamp": 1736703822917,
     "user": {
      "displayName": "Ravi Panchal",
      "userId": "18150385695476416105"
     },
     "user_tz": -330
    },
    "id": "dj608wEukyXL",
    "outputId": "8a3e1d3f-1bf1-4d58-e3d9-20008427cc25"
   },
   "outputs": [
    {
     "name": "stdout",
     "output_type": "stream",
     "text": [
      "   a   b\n",
      "0  1   6\n",
      "1  2   7\n",
      "2  3   8\n",
      "3  4   9\n",
      "4  5  10\n",
      "   a   b\n",
      "0  1   6\n",
      "1  2   7\n",
      "2  3   8\n",
      "3  4   9\n",
      "4  5  10\n",
      "   a   b\n",
      "0  1   6\n",
      "1  2   7\n",
      "2  3   8\n",
      "3  4   9\n",
      "4  5  10\n"
     ]
    }
   ],
   "source": [
    "import numpy as np\n",
    "import pandas as pd\n",
    "data=pd.DataFrame({'a':[1,2,3,4,5],'b':[6,7,8,9,10]})\n",
    "data.to_csv('data.csv',index=False)\n",
    "data=pd.read_csv('data.csv')\n",
    "print(data)\n",
    "data.to_excel('data.xlsx',index=False)\n",
    "data=pd.read_excel('data.xlsx')\n",
    "print(data)\n",
    "\n",
    "\n",
    "\n"
   ]
  },
  {
   "cell_type": "markdown",
   "metadata": {
    "id": "KVcpOr7vnjJf"
   },
   "source": [
    "# Part 3: Basic Plotting"
   ]
  },
  {
   "cell_type": "markdown",
   "metadata": {
    "id": "Ai_sU4WynpoU"
   },
   "source": [
    "**1. Line Plot** <br>\n",
    "Create a line plot for the following data:<br>\n",
    "1. X-axis: Numbers from 1 to 10\n",
    "2. Y-axis: Squares of the numbers (e.g., y=x2y = x^2y=x2)\n",
    "Customize the plot by adding:<br>\n",
    "1. A title\n",
    "2. Labels for the X and Y axes\n",
    "3. A grid"
   ]
  },
  {
   "cell_type": "code",
   "execution_count": 55,
   "metadata": {
    "colab": {
     "base_uri": "https://localhost:8080/",
     "height": 472
    },
    "executionInfo": {
     "elapsed": 650,
     "status": "ok",
     "timestamp": 1736704276077,
     "user": {
      "displayName": "Ravi Panchal",
      "userId": "18150385695476416105"
     },
     "user_tz": -330
    },
    "id": "K2dD_0zyn8Jt",
    "outputId": "bbae9647-91b9-435b-c5fc-d7e46767d1f9"
   },
   "outputs": [
    {
     "data": {
      "image/png": "[encoded data removed]",
      "text/plain": [
       "<Figure size 640x480 with 1 Axes>"
      ]
     },
     "metadata": {},
     "output_type": "display_data"
    }
   ],
   "source": [
    "import matplotlib.pyplot as plt\n",
    "import numpy as np\n",
    "x=np.arange(1,11)\n",
    "y=x**2\n",
    "plt.plot(x,y)\n",
    "plt.title('Line Plot')\n",
    "plt.xlabel('X-axis')\n",
    "plt.ylabel('Y-axis')\n",
    "plt.grid(True)\n",
    "plt.show()\n",
    "\n"
   ]
  },
  {
   "cell_type": "markdown",
   "metadata": {
    "id": "2UAgY7ikpFmL"
   },
   "source": [
    "**2. Bar Plot** <br>\n",
    "Create a bar plot to visualize the following data:<br>\n",
    "1. Categories: Apples, Bananas, Cherries, Dates\n",
    "2. Values: 40, 25, 35, 20\n",
    "Add:\n",
    "3. Different colors for each bar\n",
    "4. A legend"
   ]
  },
  {
   "cell_type": "code",
   "execution_count": 57,
   "metadata": {
    "colab": {
     "base_uri": "https://localhost:8080/",
     "height": 430
    },
    "executionInfo": {
     "elapsed": 11,
     "status": "ok",
     "timestamp": 1736704529712,
     "user": {
      "displayName": "Ravi Panchal",
      "userId": "18150385695476416105"
     },
     "user_tz": -330
    },
    "id": "3yHUCay2pSEo",
    "outputId": "1d41b424-550d-44a6-a162-ee09a6324aa8"
   },
   "outputs": [
    {
     "data": {
      "image/png": "[encoded data removed]",
      "text/plain": [
       "<Figure size 640x480 with 1 Axes>"
      ]
     },
     "metadata": {},
     "output_type": "display_data"
    }
   ],
   "source": [
    "import matplotlib.pyplot as plt\n",
    "import numpy as np\n",
    "x=['Apples','Banana','Cherries','Dates']\n",
    "y=[40,25,35,20]\n",
    "plt.bar(x,y,color=['red','green','blue','yellow'])\n",
    "plt.legend(x)\n",
    "plt.show()"
   ]
  },
  {
   "cell_type": "markdown",
   "metadata": {
    "id": "KptnJy1SqFVx"
   },
   "source": [
    "**3. Scatter Plot**<br>\n",
    "Generate a scatter plot of random data:<br>\n",
    "1. X: 50 random numbers between 1 and 100\n",
    "2. Y: 50 random numbers between 1 and 100\n",
    "Customize the scatter plot by:\n",
    "3. Changing the marker size and color\n",
    "4. Adding a title and axis labels"
   ]
  },
  {
   "cell_type": "code",
   "execution_count": 58,
   "metadata": {
    "colab": {
     "base_uri": "https://localhost:8080/",
     "height": 472
    },
    "executionInfo": {
     "elapsed": 435,
     "status": "ok",
     "timestamp": 1736704728191,
     "user": {
      "displayName": "Ravi Panchal",
      "userId": "18150385695476416105"
     },
     "user_tz": -330
    },
    "id": "75hVqt1gqOcU",
    "outputId": "45a77147-693b-459a-9203-bd83e29d2535"
   },
   "outputs": [
    {
     "data": {
      "image/png": "[encoded data removed]",
      "text/plain": [
       "<Figure size 640x480 with 1 Axes>"
      ]
     },
     "metadata": {},
     "output_type": "display_data"
    }
   ],
   "source": [
    "import matplotlib.pyplot as plt\n",
    "import numpy as np\n",
    "x=np.random.randint(1,100,50)\n",
    "y=np.random.randint(1,100,50)\n",
    "plt.scatter(x,y,s=10,c='red')\n",
    "plt.title('Scatter Plot')\n",
    "plt.xlabel('X-axis')\n",
    "plt.ylabel('Y-axis')\n",
    "plt.show()"
   ]
  },
  {
   "cell_type": "markdown",
   "metadata": {
    "id": "QKB2_-YDq0Dz"
   },
   "source": [
    "**4. Subplots**<br>\n",
    "Create a figure with two subplots:<br>\n",
    "1. Subplot 1: A sine wave plot for values of xxx from 000 to 2π2\\pi2π2\n",
    "2. Subplot 2: A cosine wave plot for values of xxx from 000 to 2π2\\pi2π\n",
    "Ensure both subplots have appropriate titles and axis labels."
   ]
  },
  {
   "cell_type": "code",
   "execution_count": 59,
   "metadata": {
    "colab": {
     "base_uri": "https://localhost:8080/",
     "height": 472
    },
    "executionInfo": {
     "elapsed": 646,
     "status": "ok",
     "timestamp": 1736705060833,
     "user": {
      "displayName": "Ravi Panchal",
      "userId": "18150385695476416105"
     },
     "user_tz": -330
    },
    "id": "QfvfX7mjrBU0",
    "outputId": "1c039d51-d1d6-4b99-bdda-58e35334e4e4"
   },
   "outputs": [
    {
     "data": {
      "image/png": "[encoded data removed]",
      "text/plain": [
       "<Figure size 640x480 with 2 Axes>"
      ]
     },
     "metadata": {},
     "output_type": "display_data"
    }
   ],
   "source": [
    "import matplotlib.pyplot as plt\n",
    "import numpy as np\n",
    "x=np.linspace(0,2*np.pi,100)\n",
    "y1=np.sin(x)\n",
    "y2=np.cos(x)\n",
    "fig,ax=plt.subplots(1,2)\n",
    "ax[0].plot(x,y1)\n",
    "ax[0].set_title('Sine Wave')\n",
    "ax[0].set_xlabel('X-axis')\n",
    "ax[0].set_ylabel('Y-axis')\n",
    "ax[1].plot(x,y2)\n",
    "ax[1].set_title('Cosine Wave')\n",
    "ax[1].set_xlabel('X-axis')\n",
    "ax[1].set_ylabel('Y-axis')\n",
    "plt.show()\n"
   ]
  },
  {
   "cell_type": "markdown",
   "metadata": {
    "id": "zfg3Z6TLsDrq"
   },
   "source": [
    "**5. Histogram**<br>\n",
    "Generate a histogram for a dataset of 1000 random numbers sampled from a\n",
    "normal distribution with mean 0 and standard deviation 1.<br>\n",
    "1. Add bins to the histogram.\n",
    "2. Customize the color and edge color.\n",
    "3. Save the plot as an image file (histogram.png)."
   ]
  },
  {
   "cell_type": "code",
   "execution_count": 61,
   "metadata": {
    "colab": {
     "base_uri": "https://localhost:8080/",
     "height": 430
    },
    "executionInfo": {
     "elapsed": 403,
     "status": "ok",
     "timestamp": 1736705219217,
     "user": {
      "displayName": "Ravi Panchal",
      "userId": "18150385695476416105"
     },
     "user_tz": -330
    },
    "id": "3usGqMHRsMcE",
    "outputId": "5a99d489-96dd-4a8c-a22e-fb72a9bbf351"
   },
   "outputs": [
    {
     "data": {
      "image/png": "[encoded data removed]",
      "text/plain": [
       "<Figure size 640x480 with 1 Axes>"
      ]
     },
     "metadata": {},
     "output_type": "display_data"
    }
   ],
   "source": [
    "import matplotlib.pyplot as plt\n",
    "import numpy as np\n",
    "x=np.random.randint(1,100,1000)\n",
    "plt.hist(x,bins=10,color='red',edgecolor='black')\n",
    "plt.savefig('histogram.png')\n",
    "plt.show()"
   ]
  }
 ],
 "metadata": {
  "colab": {
   "authorship_tag": "ABX9TyPJzPpnsgUE9AJXOIL/O00a",
   "provenance": []
  },
  "kernelspec": {
   "display_name": "Python 3",
   "name": "python3"
  },
  "language_info": {
   "name": "python"
  }
 },
 "nbformat": 4,
 "nbformat_minor": 0
}
